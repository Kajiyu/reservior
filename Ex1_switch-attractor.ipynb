{
 "cells": [
  {
   "cell_type": "code",
   "execution_count": 1,
   "metadata": {
    "collapsed": false
   },
   "outputs": [],
   "source": [
    "import torch\n",
    "from datasets.SwitchAttractorDataset import SwitchAttractorDataset\n",
    "import esn\n",
    "import utils\n",
    "from torch.autograd import Variable\n",
    "import torch.optim as optim\n",
    "from torch.utils.data.dataloader import DataLoader\n",
    "import numpy as np\n",
    "# import mdp\n",
    "import matplotlib.pyplot as plt\n",
    "%matplotlib inline"
   ]
  },
  {
   "cell_type": "code",
   "execution_count": 2,
   "metadata": {
    "collapsed": false
   },
   "outputs": [
    {
     "data": {
      "text/plain": [
       "<torch._C.Generator at 0x113c051f0>"
      ]
     },
     "execution_count": 2,
     "metadata": {},
     "output_type": "execute_result"
    }
   ],
   "source": [
    "# Dataset params\n",
    "train_sample_length = 10000\n",
    "test_sample_length = 1000\n",
    "n_train_samples = 100\n",
    "n_test_samples = 10\n",
    "batch_size = 1\n",
    "spectral_radius = 0.9\n",
    "leaky_rate = 1.0\n",
    "input_dim = 1\n",
    "n_hidden = 100\n",
    "w_sparsity=0.1\n",
    "\n",
    "# Manual seed\n",
    "np.random.seed(2)\n",
    "torch.manual_seed(1)"
   ]
  },
  {
   "cell_type": "code",
   "execution_count": 3,
   "metadata": {
    "collapsed": true
   },
   "outputs": [],
   "source": [
    "# Switch attractor dataset\n",
    "switch_train_dataset = SwitchAttractorDataset(train_sample_length, n_train_samples, seed=1)\n",
    "switch_test_dataset = SwitchAttractorDataset(test_sample_length, n_test_samples, seed=10)"
   ]
  },
  {
   "cell_type": "code",
   "execution_count": 4,
   "metadata": {
    "collapsed": true
   },
   "outputs": [],
   "source": [
    "# Data loader\n",
    "trainloader = DataLoader(switch_train_dataset, batch_size=batch_size, shuffle=False, num_workers=2)\n",
    "testloader = DataLoader(switch_test_dataset, batch_size=batch_size, shuffle=False, num_workers=2)"
   ]
  },
  {
   "cell_type": "code",
   "execution_count": 14,
   "metadata": {
    "collapsed": false,
    "scrolled": true
   },
   "outputs": [],
   "source": [
    "# Model Definition\n",
    "model = esn.ESN(\n",
    "    input_dim=input_dim,\n",
    "    hidden_dim=n_hidden,\n",
    "    output_dim=1,\n",
    "    spectral_radius=spectral_radius,\n",
    "    w_sparsity=w_sparsity,\n",
    "    feedbacks=True\n",
    ")"
   ]
  },
  {
   "cell_type": "code",
   "execution_count": 15,
   "metadata": {
    "collapsed": true
   },
   "outputs": [],
   "source": [
    "# Optimizer\n",
    "optimizer = optim.SGD(model.parameters(), lr=0.0001)"
   ]
  },
  {
   "cell_type": "code",
   "execution_count": 16,
   "metadata": {
    "collapsed": true
   },
   "outputs": [],
   "source": [
    "# Loss Function\n",
    "def mse_loss(outputs, targets):\n",
    "    loss = (outputs - targets)**2\n",
    "    loss = torch.sum(loss, -1)\n",
    "    return torch.mean(loss)   "
   ]
  },
  {
   "cell_type": "markdown",
   "metadata": {},
   "source": [
    "## Teacher Forcing"
   ]
  },
  {
   "cell_type": "code",
   "execution_count": 19,
   "metadata": {
    "collapsed": false,
    "scrolled": true
   },
   "outputs": [
    {
     "name": "stderr",
     "output_type": "stream",
     "text": [
      "Process Process-17:\n",
      "Process Process-18:\n",
      "Traceback (most recent call last):\n",
      "Traceback (most recent call last):\n",
      "  File \"/Users/YumaKajihara/.pyenv/versions/anaconda3-2.5.0/lib/python3.5/multiprocessing/process.py\", line 252, in _bootstrap\n",
      "    self.run()\n",
      "  File \"/Users/YumaKajihara/.pyenv/versions/anaconda3-2.5.0/lib/python3.5/multiprocessing/process.py\", line 252, in _bootstrap\n",
      "    self.run()\n",
      "  File \"/Users/YumaKajihara/.pyenv/versions/anaconda3-2.5.0/lib/python3.5/multiprocessing/process.py\", line 93, in run\n",
      "    self._target(*self._args, **self._kwargs)\n",
      "  File \"/Users/YumaKajihara/.pyenv/versions/anaconda3-2.5.0/lib/python3.5/multiprocessing/process.py\", line 93, in run\n",
      "    self._target(*self._args, **self._kwargs)\n",
      "  File \"/Users/YumaKajihara/.pyenv/versions/anaconda3-2.5.0/lib/python3.5/site-packages/torch/utils/data/dataloader.py\", line 52, in _worker_loop\n",
      "    r = index_queue.get()\n",
      "  File \"/Users/YumaKajihara/.pyenv/versions/anaconda3-2.5.0/lib/python3.5/site-packages/torch/utils/data/dataloader.py\", line 52, in _worker_loop\n",
      "    r = index_queue.get()\n",
      "  File \"/Users/YumaKajihara/.pyenv/versions/anaconda3-2.5.0/lib/python3.5/multiprocessing/queues.py\", line 335, in get\n",
      "    res = self._reader.recv_bytes()\n",
      "  File \"/Users/YumaKajihara/.pyenv/versions/anaconda3-2.5.0/lib/python3.5/multiprocessing/queues.py\", line 335, in get\n",
      "    res = self._reader.recv_bytes()\n",
      "  File \"/Users/YumaKajihara/.pyenv/versions/anaconda3-2.5.0/lib/python3.5/multiprocessing/connection.py\", line 216, in recv_bytes\n",
      "    buf = self._recv_bytes(maxlength)\n",
      "  File \"/Users/YumaKajihara/.pyenv/versions/anaconda3-2.5.0/lib/python3.5/multiprocessing/connection.py\", line 216, in recv_bytes\n",
      "    buf = self._recv_bytes(maxlength)\n",
      "  File \"/Users/YumaKajihara/.pyenv/versions/anaconda3-2.5.0/lib/python3.5/multiprocessing/connection.py\", line 407, in _recv_bytes\n",
      "    buf = self._recv(4)\n",
      "  File \"/Users/YumaKajihara/.pyenv/versions/anaconda3-2.5.0/lib/python3.5/multiprocessing/connection.py\", line 407, in _recv_bytes\n",
      "    buf = self._recv(4)\n",
      "  File \"/Users/YumaKajihara/.pyenv/versions/anaconda3-2.5.0/lib/python3.5/multiprocessing/connection.py\", line 379, in _recv\n",
      "    chunk = read(handle, remaining)\n",
      "  File \"/Users/YumaKajihara/.pyenv/versions/anaconda3-2.5.0/lib/python3.5/multiprocessing/connection.py\", line 379, in _recv\n",
      "    chunk = read(handle, remaining)\n",
      "KeyboardInterrupt\n",
      "KeyboardInterrupt\n"
     ]
    },
    {
     "ename": "KeyboardInterrupt",
     "evalue": "",
     "output_type": "error",
     "traceback": [
      "\u001b[0;31m---------------------------------------------------------------------------\u001b[0m",
      "\u001b[0;31mKeyboardInterrupt\u001b[0m                         Traceback (most recent call last)",
      "\u001b[0;32m<ipython-input-19-81f9688ec099>\u001b[0m in \u001b[0;36m<module>\u001b[0;34m()\u001b[0m\n\u001b[1;32m     13\u001b[0m \u001b[0;34m\u001b[0m\u001b[0m\n\u001b[1;32m     14\u001b[0m     \u001b[0mloss\u001b[0m \u001b[0;34m=\u001b[0m \u001b[0mmse_loss\u001b[0m\u001b[0;34m(\u001b[0m\u001b[0;34m(\u001b[0m\u001b[0moutputs\u001b[0m\u001b[0;34m)\u001b[0m\u001b[0;34m,\u001b[0m \u001b[0mtargets\u001b[0m\u001b[0;34m)\u001b[0m\u001b[0;34m\u001b[0m\u001b[0m\n\u001b[0;32m---> 15\u001b[0;31m     \u001b[0mloss\u001b[0m\u001b[0;34m.\u001b[0m\u001b[0mbackward\u001b[0m\u001b[0;34m(\u001b[0m\u001b[0;34m)\u001b[0m\u001b[0;34m\u001b[0m\u001b[0m\n\u001b[0m\u001b[1;32m     16\u001b[0m     \u001b[0moptimizer\u001b[0m\u001b[0;34m.\u001b[0m\u001b[0mstep\u001b[0m\u001b[0;34m(\u001b[0m\u001b[0;34m)\u001b[0m\u001b[0;34m\u001b[0m\u001b[0m\n\u001b[1;32m     17\u001b[0m \u001b[0;34m\u001b[0m\u001b[0m\n",
      "\u001b[0;32m/Users/YumaKajihara/.pyenv/versions/anaconda3-2.5.0/lib/python3.5/site-packages/torch/tensor.py\u001b[0m in \u001b[0;36mbackward\u001b[0;34m(self, gradient, retain_graph, create_graph)\u001b[0m\n\u001b[1;32m     91\u001b[0m                 \u001b[0mproducts\u001b[0m\u001b[0;34m.\u001b[0m \u001b[0mDefaults\u001b[0m \u001b[0mto\u001b[0m\u001b[0;31m \u001b[0m\u001b[0;31m`\u001b[0m\u001b[0;31m`\u001b[0m\u001b[0;32mFalse\u001b[0m\u001b[0;31m`\u001b[0m\u001b[0;31m`\u001b[0m\u001b[0;34m.\u001b[0m\u001b[0;34m\u001b[0m\u001b[0m\n\u001b[1;32m     92\u001b[0m         \"\"\"\n\u001b[0;32m---> 93\u001b[0;31m         \u001b[0mtorch\u001b[0m\u001b[0;34m.\u001b[0m\u001b[0mautograd\u001b[0m\u001b[0;34m.\u001b[0m\u001b[0mbackward\u001b[0m\u001b[0;34m(\u001b[0m\u001b[0mself\u001b[0m\u001b[0;34m,\u001b[0m \u001b[0mgradient\u001b[0m\u001b[0;34m,\u001b[0m \u001b[0mretain_graph\u001b[0m\u001b[0;34m,\u001b[0m \u001b[0mcreate_graph\u001b[0m\u001b[0;34m)\u001b[0m\u001b[0;34m\u001b[0m\u001b[0m\n\u001b[0m\u001b[1;32m     94\u001b[0m \u001b[0;34m\u001b[0m\u001b[0m\n\u001b[1;32m     95\u001b[0m     \u001b[0;32mdef\u001b[0m \u001b[0mregister_hook\u001b[0m\u001b[0;34m(\u001b[0m\u001b[0mself\u001b[0m\u001b[0;34m,\u001b[0m \u001b[0mhook\u001b[0m\u001b[0;34m)\u001b[0m\u001b[0;34m:\u001b[0m\u001b[0;34m\u001b[0m\u001b[0m\n",
      "\u001b[0;32m/Users/YumaKajihara/.pyenv/versions/anaconda3-2.5.0/lib/python3.5/site-packages/torch/autograd/__init__.py\u001b[0m in \u001b[0;36mbackward\u001b[0;34m(tensors, grad_tensors, retain_graph, create_graph, grad_variables)\u001b[0m\n\u001b[1;32m     87\u001b[0m     Variable._execution_engine.run_backward(\n\u001b[1;32m     88\u001b[0m         \u001b[0mtensors\u001b[0m\u001b[0;34m,\u001b[0m \u001b[0mgrad_tensors\u001b[0m\u001b[0;34m,\u001b[0m \u001b[0mretain_graph\u001b[0m\u001b[0;34m,\u001b[0m \u001b[0mcreate_graph\u001b[0m\u001b[0;34m,\u001b[0m\u001b[0;34m\u001b[0m\u001b[0m\n\u001b[0;32m---> 89\u001b[0;31m         allow_unreachable=True)  # allow_unreachable flag\n\u001b[0m\u001b[1;32m     90\u001b[0m \u001b[0;34m\u001b[0m\u001b[0m\n\u001b[1;32m     91\u001b[0m \u001b[0;34m\u001b[0m\u001b[0m\n",
      "\u001b[0;31mKeyboardInterrupt\u001b[0m: "
     ]
    }
   ],
   "source": [
    "for data in trainloader:\n",
    "    optimizer.zero_grad()\n",
    "    \n",
    "    # Inputs and outputs\n",
    "    inputs, targets = data\n",
    "\n",
    "    # To variable\n",
    "    inputs, targets = Variable(inputs), Variable(targets)\n",
    "    # plt.plot(targets.data[0].numpy(), c='b')\n",
    "    # plt.plot(y_predicted.data[0, :, 0].numpy(), c='r')\n",
    "    # plt.show()\n",
    "    outputs = model(inputs, targets)\n",
    "    \n",
    "    loss = mse_loss((outputs), targets)\n",
    "    loss.backward()\n",
    "    optimizer.step()\n",
    "    \n",
    "#     print(loss.data[0])"
   ]
  },
  {
   "cell_type": "code",
   "execution_count": 12,
   "metadata": {
    "collapsed": false
   },
   "outputs": [
    {
     "data": {
      "image/png": "[encoded data removed]",
      "text/plain": [
       "<Figure size 2000x1000 with 1 Axes>"
      ]
     },
     "metadata": {},
     "output_type": "display_data"
    },
    {
     "data": {
      "image/png": "[encoded data removed]",
      "text/plain": [
       "<Figure size 2000x1000 with 1 Axes>"
      ]
     },
     "metadata": {},
     "output_type": "display_data"
    }
   ],
   "source": [
    "for data in testloader:\n",
    "    # Test MSE\n",
    "    test_u, test_y = data\n",
    "    test_u, test_y = Variable(test_u), Variable(test_y)\n",
    "    y_predicted = model(test_u)\n",
    "    plt.figure(figsize=(20, 10))\n",
    "    plt.plot(test_u.data[0].numpy(), c='b', linewidth=0.7)\n",
    "    plt.show()\n",
    "    plt.figure(figsize=(20, 10))\n",
    "    plt.plot(test_y.data[0].numpy(), c='b', linewidth=0.7)\n",
    "    plt.plot(y_predicted.data[0, :, 0].numpy(), c='r', linewidth=0.7)\n",
    "    plt.show()\n",
    "    break"
   ]
  },
  {
   "cell_type": "markdown",
   "metadata": {},
   "source": [
    "## No Teacher Forcing"
   ]
  },
  {
   "cell_type": "code",
   "execution_count": 17,
   "metadata": {
    "collapsed": false,
    "scrolled": true
   },
   "outputs": [
    {
     "name": "stdout",
     "output_type": "stream",
     "text": [
      "tensor(2425.0908)\n",
      "tensor(2374.8804)\n",
      "tensor(2075.6155)\n",
      "tensor(1696.4033)\n",
      "tensor(2035.4193)\n",
      "tensor(2089.4001)\n",
      "tensor(1222.5038)\n",
      "tensor(1998.1376)\n",
      "tensor(2748.6370)\n",
      "tensor(2326.0193)\n",
      "tensor(1699.7959)\n",
      "tensor(1072.1687)\n",
      "tensor(1397.2708)\n",
      "tensor(2459.1223)\n",
      "tensor(1006.9136)\n",
      "tensor(709.3676)\n",
      "tensor(1409.1573)\n",
      "tensor(2201.4722)\n",
      "tensor(2332.5049)\n",
      "tensor(2228.4341)\n",
      "tensor(837.7155)\n",
      "tensor(1568.4336)\n",
      "tensor(1466.3058)\n",
      "tensor(735.6879)\n",
      "tensor(2788.0271)\n",
      "tensor(2230.0369)\n",
      "tensor(3137.2971)\n",
      "tensor(1525.6528)\n",
      "tensor(1972.1117)\n",
      "tensor(1461.4845)\n",
      "tensor(2180.7720)\n",
      "tensor(628.0589)\n",
      "tensor(2907.9517)\n",
      "tensor(1686.3667)\n",
      "tensor(840.7222)\n",
      "tensor(2096.3057)\n",
      "tensor(2697.6760)\n",
      "tensor(2062.7925)\n",
      "tensor(935.2867)\n",
      "tensor(2571.3672)\n",
      "tensor(964.4438)\n",
      "tensor(2214.3550)\n",
      "tensor(2242.4956)\n",
      "tensor(1284.2794)\n",
      "tensor(2034.3969)\n",
      "tensor(2055.4626)\n",
      "tensor(1422.1670)\n",
      "tensor(1922.4836)\n",
      "tensor(1861.7207)\n",
      "tensor(2302.7302)\n",
      "tensor(2054.6565)\n",
      "tensor(2004.1230)\n",
      "tensor(1049.5530)\n",
      "tensor(1496.5935)\n",
      "tensor(575.7166)\n",
      "tensor(1083.1882)\n",
      "tensor(1530.7360)\n",
      "tensor(1740.2826)\n",
      "tensor(801.0057)\n",
      "tensor(972.5931)\n",
      "tensor(1024.1216)\n",
      "tensor(1581.4219)\n",
      "tensor(1758.9447)\n",
      "tensor(1660.5194)\n",
      "tensor(2303.7852)\n",
      "tensor(968.1553)\n",
      "tensor(2295.4514)\n",
      "tensor(2318.0515)\n",
      "tensor(1699.8010)\n",
      "tensor(1902.0751)\n",
      "tensor(619.6635)\n",
      "tensor(733.6678)\n",
      "tensor(2894.0896)\n",
      "tensor(826.2290)\n",
      "tensor(2755.3962)\n",
      "tensor(677.2582)\n",
      "tensor(2449.5886)\n",
      "tensor(2091.5225)\n",
      "tensor(2328.4714)\n",
      "tensor(2711.0215)\n",
      "tensor(2219.8455)\n",
      "tensor(1561.4874)\n",
      "tensor(2015.1011)\n",
      "tensor(3116.5122)\n",
      "tensor(816.2561)\n",
      "tensor(1660.8770)\n",
      "tensor(1030.0709)\n",
      "tensor(960.2571)\n",
      "tensor(1240.2767)\n",
      "tensor(1415.8521)\n",
      "tensor(2981.1262)\n",
      "tensor(2768.1379)\n",
      "tensor(2374.8350)\n",
      "tensor(2964.5361)\n",
      "tensor(1070.2194)\n",
      "tensor(885.5316)\n",
      "tensor(1771.5665)\n",
      "tensor(587.9825)\n",
      "tensor(1665.7341)\n",
      "tensor(3200.4617)\n"
     ]
    },
    {
     "name": "stderr",
     "output_type": "stream",
     "text": [
      "/Users/YumaKajihara/.pyenv/versions/anaconda3-2.5.0/lib/python3.5/site-packages/ipykernel/__main__.py:18: UserWarning: invalid index of a 0-dim tensor. This will be an error in PyTorch 0.5. Use tensor.item() to convert a 0-dim tensor to a Python number\n"
     ]
    }
   ],
   "source": [
    "for data in trainloader:\n",
    "    optimizer.zero_grad()\n",
    "    \n",
    "    # Inputs and outputs\n",
    "    inputs, targets = data\n",
    "\n",
    "    # To variable\n",
    "    inputs, targets = Variable(inputs), Variable(targets)\n",
    "    # plt.plot(targets.data[0].numpy(), c='b')\n",
    "    # plt.plot(y_predicted.data[0, :, 0].numpy(), c='r')\n",
    "    # plt.show()\n",
    "    outputs = model(inputs)\n",
    "    \n",
    "    loss = mse_loss((outputs), targets)\n",
    "    loss.backward()\n",
    "    optimizer.step()\n",
    "    \n",
    "    print(loss.data[0])"
   ]
  },
  {
   "cell_type": "code",
   "execution_count": 18,
   "metadata": {
    "collapsed": false
   },
   "outputs": [
    {
     "data": {
      "image/png": "[encoded data removed]",
      "text/plain": [
       "<Figure size 2000x1000 with 1 Axes>"
      ]
     },
     "metadata": {},
     "output_type": "display_data"
    }
   ],
   "source": [
    "for data in testloader:\n",
    "    # Test MSE\n",
    "    test_u, test_y = data\n",
    "    test_u, test_y = Variable(test_u), Variable(test_y)\n",
    "    y_predicted = model(test_u)\n",
    "    plt.figure(figsize=(20, 10))\n",
    "    plt.plot(test_y.data[0].numpy(), c='b', linewidth=0.7)\n",
    "    plt.plot(y_predicted.data[0, :, 0].numpy(), c='r', linewidth=0.7)\n",
    "    plt.show()\n",
    "    break"
   ]
  },
  {
   "cell_type": "code",
   "execution_count": null,
   "metadata": {
    "collapsed": true
   },
   "outputs": [],
   "source": []
  }
 ],
 "metadata": {
  "kernelspec": {
   "display_name": "Python 3",
   "language": "python",
   "name": "python3"
  },
  "language_info": {
   "codemirror_mode": {
    "name": "ipython",
    "version": 3
   },
   "file_extension": ".py",
   "mimetype": "text/x-python",
   "name": "python",
   "nbconvert_exporter": "python",
   "pygments_lexer": "ipython3",
   "version": "3.5.5"
  }
 },
 "nbformat": 4,
 "nbformat_minor": 0
}
